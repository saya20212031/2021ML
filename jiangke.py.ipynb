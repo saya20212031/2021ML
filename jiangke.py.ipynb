{
 "cells": [
  {
   "cell_type": "code",
   "execution_count": 2,
   "metadata": {},
   "outputs": [
    {
     "name": "stdout",
     "output_type": "stream",
     "text": [
      "715 ms ± 57.7 ms per loop (mean ± std. dev. of 7 runs, 1 loop each)\n"
     ]
    }
   ],
   "source": [
    "import numpy as np\n",
    "import timeit\n",
    "x=list(range(1000000))\n",
    "%timeit [i**2 for i in x]"
   ]
  },
  {
   "cell_type": "code",
   "execution_count": 3,
   "metadata": {},
   "outputs": [
    {
     "name": "stdout",
     "output_type": "stream",
     "text": [
      "4.78 ms ± 263 µs per loop (mean ± std. dev. of 7 runs, 100 loops each)\n"
     ]
    }
   ],
   "source": [
    "y=np.arange(1000000)\n",
    "%timeit y**2"
   ]
  },
  {
   "cell_type": "code",
   "execution_count": 5,
   "metadata": {},
   "outputs": [
    {
     "name": "stdout",
     "output_type": "stream",
     "text": [
      "[[1. 0. 0. 0. 0. 0.]\n",
      " [0. 1. 0. 0. 0. 0.]\n",
      " [0. 0. 1. 0. 0. 0.]\n",
      " [0. 0. 0. 1. 0. 0.]\n",
      " [0. 0. 0. 0. 1. 0.]\n",
      " [0. 0. 0. 0. 0. 1.]]\n"
     ]
    }
   ],
   "source": [
    "from scipy import sparse\n",
    "matrix=np.eye(6)\n",
    "print(matrix)"
   ]
  },
  {
   "cell_type": "code",
   "execution_count": 15,
   "metadata": {},
   "outputs": [
    {
     "name": "stdout",
     "output_type": "stream",
     "text": [
      "CSR格式为：\n",
      "  (0, 0)\t1.0\n",
      "  (1, 1)\t1.0\n",
      "  (2, 2)\t1.0\n",
      "  (3, 3)\t1.0\n",
      "  (4, 4)\t1.0\n",
      "  (5, 5)\t1.0\n"
     ]
    }
   ],
   "source": [
    "sparse_matrix=sparse.csr_matrix(matrix)\n",
    "print(\"CSR格式为：\\n{}\".format(sparse_matrix))"
   ]
  },
  {
   "cell_type": "code",
   "execution_count": 53,
   "metadata": {},
   "outputs": [
    {
     "data": {
      "text/plain": [
       "[<matplotlib.lines.Line2D at 0x1a7aaa51788>]"
      ]
     },
     "execution_count": 53,
     "metadata": {},
     "output_type": "execute_result"
    },
    {
     "data": {
      "image/png": "[encoded data removed]",
      "text/plain": [
       "<Figure size 432x288 with 1 Axes>"
      ]
     },
     "metadata": {
      "needs_background": "light"
     },
     "output_type": "display_data"
    }
   ],
   "source": [
    "# 通过inline指令，实现在Jupyter中的实时绘图功能\n",
    "# %matplotlib inline\n",
    "\n",
    "# 1. 使用import关键字引入matplotlib库，为了简便使用缩写 “plt”来表示matplotlib库。\n",
    "import matplotlib.pyplot as plt\n",
    "import numpy as np\n",
    "\n",
    "# 使用linspace()函数生成一个-20到20，元素个数为10的等差数列。\n",
    "# 令数列中的值为 x, 并根据表达式计算对应的 y值。\n",
    "x = np.linspace(-20, 20, 10)\n",
    "y = 2*x**2-3*x**4+6*x-3\n",
    "\n",
    "#使用plot()函数绘制出曲线图\n",
    "plt.plot(x, y, marker = \"o\")"
   ]
  },
  {
   "cell_type": "code",
   "execution_count": 55,
   "metadata": {},
   "outputs": [
    {
     "name": "stdout",
     "output_type": "stream",
     "text": [
      "x=[-20.         -15.55555556 -11.11111111  -6.66666667  -2.22222222\n",
      "   2.22222222   6.66666667  11.11111111  15.55555556  20.        ]\n",
      "y=[-4.79323000e+05 -1.75268533e+05 -4.55474902e+04 -5.88003704e+03\n",
      " -7.96163695e+01 -5.29497028e+01 -5.80003704e+03 -4.54141568e+04\n",
      " -1.75081866e+05 -4.79083000e+05]\n"
     ]
    }
   ],
   "source": [
    "print(\"x={}\".format(x))\n",
    "print(\"y={}\".format(y))"
   ]
  },
  {
   "cell_type": "code",
   "execution_count": 52,
   "metadata": {},
   "outputs": [
    {
     "data": {
      "image/png": "[encoded data removed]",
      "text/plain": [
       "<Figure size 432x288 with 1 Axes>"
      ]
     },
     "metadata": {
      "needs_background": "light"
     },
     "output_type": "display_data"
    }
   ],
   "source": [
    "# 2. 指定坐标轴上的值\n",
    "import matplotlib.pyplot as plt\n",
    "import numpy as np\n",
    "plt.figure(1)\n",
    "x_index = np.arange(5)   #柱的索引\n",
    "x_data = ('A', 'B', 'C', 'D', 'E')\n",
    "y1_data = (20, 35, 30, 35, 27)\n",
    "y2_data = (25, 32, 34, 20, 25)\n",
    "bar_width = 0.5   #定义一个数字代表每个独立柱的宽度\n",
    "\n",
    "# 3. 绘图\n",
    "# 使用 bar()函数定义柱状图的各个参数，依次包括：左偏移、高度、柱宽、透明度、颜色、图例\n",
    "# 关于左偏移，不用关心每根柱的中心不中心，因为只要把刻度线设置在柱的中间就可以了\n",
    "rects1 = plt.bar(x_index, y1_data, width=bar_width,alpha=0.4, color='b',label='legend1')          \n",
    "rects2 = plt.bar(x_index + bar_width, y2_data, width=bar_width,alpha=0.5,color='r',label='legend2') \n",
    "\n",
    "# 4. 优化图形\n",
    "# 使用 xticks() 函数设置x轴的刻度线\n",
    "plt.xticks(x_index + bar_width/2, x_data)\n",
    "plt.legend() #显示图例\n",
    "plt.show()"
   ]
  },
  {
   "cell_type": "code",
   "execution_count": 26,
   "metadata": {},
   "outputs": [
    {
     "data": {
      "text/html": [
       "<div>\n",
       "<style scoped>\n",
       "    .dataframe tbody tr th:only-of-type {\n",
       "        vertical-align: middle;\n",
       "    }\n",
       "\n",
       "    .dataframe tbody tr th {\n",
       "        vertical-align: top;\n",
       "    }\n",
       "\n",
       "    .dataframe thead th {\n",
       "        text-align: right;\n",
       "    }\n",
       "</style>\n",
       "<table border=\"1\" class=\"dataframe\">\n",
       "  <thead>\n",
       "    <tr style=\"text-align: right;\">\n",
       "      <th></th>\n",
       "      <th>姓名</th>\n",
       "      <th>归属国</th>\n",
       "      <th>年龄</th>\n",
       "      <th>武力值</th>\n",
       "      <th>战斗力</th>\n",
       "    </tr>\n",
       "  </thead>\n",
       "  <tbody>\n",
       "    <tr>\n",
       "      <td>0</td>\n",
       "      <td>张飞</td>\n",
       "      <td>蜀国</td>\n",
       "      <td>33</td>\n",
       "      <td>98</td>\n",
       "      <td>100</td>\n",
       "    </tr>\n",
       "    <tr>\n",
       "      <td>1</td>\n",
       "      <td>赵云</td>\n",
       "      <td>蜀国</td>\n",
       "      <td>28</td>\n",
       "      <td>97</td>\n",
       "      <td>101</td>\n",
       "    </tr>\n",
       "    <tr>\n",
       "      <td>2</td>\n",
       "      <td>夏侯惇</td>\n",
       "      <td>魏国</td>\n",
       "      <td>32</td>\n",
       "      <td>94</td>\n",
       "      <td>98</td>\n",
       "    </tr>\n",
       "    <tr>\n",
       "      <td>3</td>\n",
       "      <td>太史慈</td>\n",
       "      <td>吴国</td>\n",
       "      <td>30</td>\n",
       "      <td>92</td>\n",
       "      <td>97</td>\n",
       "    </tr>\n",
       "  </tbody>\n",
       "</table>\n",
       "</div>"
      ],
      "text/plain": [
       "    姓名 归属国  年龄 武力值  战斗力\n",
       "0   张飞  蜀国  33  98  100\n",
       "1   赵云  蜀国  28  97  101\n",
       "2  夏侯惇  魏国  32  94   98\n",
       "3  太史慈  吴国  30  92   97"
      ]
     },
     "metadata": {},
     "output_type": "display_data"
    }
   ],
   "source": [
    "# 使用import关键字引入pandas库，为了简便使用缩写 “pd”来表示pandas库。\n",
    "import pandas as pd\n",
    "\n",
    "# 使用字典数据类型创建一个数据表，并用pandas库的DataFrame数据结构进行显示\n",
    "data = {\"姓名\":[\"张飞\",\"赵云\",\"夏侯惇\",\"太史慈\"],\n",
    "        \"归属国\":[\"蜀国\",\"蜀国\",\"魏国\",\"吴国\"],\n",
    "        \"年龄\":[\"33\",\"28\",\"32\",\"30\"],\n",
    "        \"武力值\":[\"98\",\"97\",\"94\",\"92\"],\n",
    "        \"战斗力\":[\"100\",\"101\",\"98\",\"97\"]\n",
    "}\n",
    "\n",
    "data_frame = pd.DataFrame(data) # 将字典数据类型转换成pandas数据类型\n",
    "display(data_frame)\n",
    "# 值得注意的是display是Jupyter-iPython内置函数，所以在VS中是不起作用。"
   ]
  },
  {
   "cell_type": "code",
   "execution_count": 27,
   "metadata": {},
   "outputs": [
    {
     "data": {
      "text/html": [
       "<div>\n",
       "<style scoped>\n",
       "    .dataframe tbody tr th:only-of-type {\n",
       "        vertical-align: middle;\n",
       "    }\n",
       "\n",
       "    .dataframe tbody tr th {\n",
       "        vertical-align: top;\n",
       "    }\n",
       "\n",
       "    .dataframe thead th {\n",
       "        text-align: right;\n",
       "    }\n",
       "</style>\n",
       "<table border=\"1\" class=\"dataframe\">\n",
       "  <thead>\n",
       "    <tr style=\"text-align: right;\">\n",
       "      <th></th>\n",
       "      <th>姓名</th>\n",
       "      <th>归属国</th>\n",
       "      <th>年龄</th>\n",
       "      <th>武力值</th>\n",
       "      <th>战斗力</th>\n",
       "    </tr>\n",
       "  </thead>\n",
       "  <tbody>\n",
       "    <tr>\n",
       "      <td>0</td>\n",
       "      <td>张飞</td>\n",
       "      <td>蜀国</td>\n",
       "      <td>33</td>\n",
       "      <td>98</td>\n",
       "      <td>100</td>\n",
       "    </tr>\n",
       "    <tr>\n",
       "      <td>1</td>\n",
       "      <td>赵云</td>\n",
       "      <td>蜀国</td>\n",
       "      <td>28</td>\n",
       "      <td>97</td>\n",
       "      <td>101</td>\n",
       "    </tr>\n",
       "    <tr>\n",
       "      <td>2</td>\n",
       "      <td>夏侯惇</td>\n",
       "      <td>魏国</td>\n",
       "      <td>32</td>\n",
       "      <td>94</td>\n",
       "      <td>98</td>\n",
       "    </tr>\n",
       "    <tr>\n",
       "      <td>3</td>\n",
       "      <td>太史慈</td>\n",
       "      <td>吴国</td>\n",
       "      <td>30</td>\n",
       "      <td>92</td>\n",
       "      <td>97</td>\n",
       "    </tr>\n",
       "  </tbody>\n",
       "</table>\n",
       "</div>"
      ],
      "text/plain": [
       "    姓名 归属国  年龄  武力值  战斗力\n",
       "0   张飞  蜀国  33   98  100\n",
       "1   赵云  蜀国  28   97  101\n",
       "2  夏侯惇  魏国  32   94   98\n",
       "3  太史慈  吴国  30   92   97"
      ]
     },
     "metadata": {},
     "output_type": "display_data"
    }
   ],
   "source": [
    "# 使用import关键字引入pandas库，为了简便使用缩写 “pd”来表示pandas库。\n",
    "import pandas as pd\n",
    "\n",
    "# 使用字典数据类型创建一个数据表，并用pandas库的DataFrame数据结构进行显示\n",
    "data = {\"姓名\":[\"张飞\",\"赵云\",\"夏侯惇\",\"太史慈\"],\n",
    "        \"归属国\":[\"蜀国\",\"蜀国\",\"魏国\",\"吴国\"],\n",
    "        \"年龄\":[33,28,32,30],\n",
    "        \"武力值\":[98,97,94,92],\n",
    "        \"战斗力\":[100,101,98,97]\n",
    "}\n",
    "\n",
    "data_frame = pd.DataFrame(data) # 将字典数据类型转换成pandas数据类型\n",
    "display(data_frame)\n",
    "# 值得注意的是display是Jupyter-iPython内置函数，所以在VS中是不起作用。"
   ]
  },
  {
   "cell_type": "code",
   "execution_count": 29,
   "metadata": {},
   "outputs": [
    {
     "data": {
      "text/html": [
       "<div>\n",
       "<style scoped>\n",
       "    .dataframe tbody tr th:only-of-type {\n",
       "        vertical-align: middle;\n",
       "    }\n",
       "\n",
       "    .dataframe tbody tr th {\n",
       "        vertical-align: top;\n",
       "    }\n",
       "\n",
       "    .dataframe thead th {\n",
       "        text-align: right;\n",
       "    }\n",
       "</style>\n",
       "<table border=\"1\" class=\"dataframe\">\n",
       "  <thead>\n",
       "    <tr style=\"text-align: right;\">\n",
       "      <th></th>\n",
       "      <th>姓名</th>\n",
       "      <th>归属国</th>\n",
       "      <th>年龄</th>\n",
       "      <th>武力值</th>\n",
       "      <th>战斗力</th>\n",
       "    </tr>\n",
       "  </thead>\n",
       "  <tbody>\n",
       "    <tr>\n",
       "      <td>0</td>\n",
       "      <td>张飞</td>\n",
       "      <td>蜀国</td>\n",
       "      <td>33</td>\n",
       "      <td>98</td>\n",
       "      <td>100</td>\n",
       "    </tr>\n",
       "    <tr>\n",
       "      <td>1</td>\n",
       "      <td>赵云</td>\n",
       "      <td>蜀国</td>\n",
       "      <td>28</td>\n",
       "      <td>97</td>\n",
       "      <td>101</td>\n",
       "    </tr>\n",
       "    <tr>\n",
       "      <td>3</td>\n",
       "      <td>太史慈</td>\n",
       "      <td>吴国</td>\n",
       "      <td>30</td>\n",
       "      <td>92</td>\n",
       "      <td>97</td>\n",
       "    </tr>\n",
       "  </tbody>\n",
       "</table>\n",
       "</div>"
      ],
      "text/plain": [
       "    姓名 归属国  年龄  武力值  战斗力\n",
       "0   张飞  蜀国  33   98  100\n",
       "1   赵云  蜀国  28   97  101\n",
       "3  太史慈  吴国  30   92   97"
      ]
     },
     "metadata": {},
     "output_type": "display_data"
    }
   ],
   "source": [
    "# 使用 “不等于 !=” 操作符排除字段中包含特定值的数据\n",
    "display(data_frame[data_frame.归属国 != \"魏国\"])"
   ]
  },
  {
   "cell_type": "code",
   "execution_count": 31,
   "metadata": {},
   "outputs": [
    {
     "data": {
      "text/html": [
       "<div>\n",
       "<style scoped>\n",
       "    .dataframe tbody tr th:only-of-type {\n",
       "        vertical-align: middle;\n",
       "    }\n",
       "\n",
       "    .dataframe tbody tr th {\n",
       "        vertical-align: top;\n",
       "    }\n",
       "\n",
       "    .dataframe thead th {\n",
       "        text-align: right;\n",
       "    }\n",
       "</style>\n",
       "<table border=\"1\" class=\"dataframe\">\n",
       "  <thead>\n",
       "    <tr style=\"text-align: right;\">\n",
       "      <th></th>\n",
       "      <th>姓名</th>\n",
       "      <th>归属国</th>\n",
       "      <th>年龄</th>\n",
       "      <th>武力值</th>\n",
       "      <th>战斗力</th>\n",
       "    </tr>\n",
       "  </thead>\n",
       "  <tbody>\n",
       "    <tr>\n",
       "      <td>0</td>\n",
       "      <td>张飞</td>\n",
       "      <td>蜀国</td>\n",
       "      <td>33</td>\n",
       "      <td>98</td>\n",
       "      <td>100</td>\n",
       "    </tr>\n",
       "    <tr>\n",
       "      <td>1</td>\n",
       "      <td>赵云</td>\n",
       "      <td>蜀国</td>\n",
       "      <td>28</td>\n",
       "      <td>97</td>\n",
       "      <td>101</td>\n",
       "    </tr>\n",
       "    <tr>\n",
       "      <td>2</td>\n",
       "      <td>夏侯惇</td>\n",
       "      <td>魏国</td>\n",
       "      <td>32</td>\n",
       "      <td>94</td>\n",
       "      <td>98</td>\n",
       "    </tr>\n",
       "  </tbody>\n",
       "</table>\n",
       "</div>"
      ],
      "text/plain": [
       "    姓名 归属国  年龄  武力值  战斗力\n",
       "0   张飞  蜀国  33   98  100\n",
       "1   赵云  蜀国  28   97  101\n",
       "2  夏侯惇  魏国  32   94   98"
      ]
     },
     "metadata": {},
     "output_type": "display_data"
    }
   ],
   "source": [
    "display(data_frame[data_frame.战斗力 > 97])"
   ]
  },
  {
   "cell_type": "code",
   "execution_count": 56,
   "metadata": {},
   "outputs": [],
   "source": [
    "# 载入基础科学计算库 numpy\n",
    "import numpy as np\n",
    "# 载入可视化数据的模块 matplotlib\n",
    "import matplotlib.pyplot as plt \n",
    "\n",
    "# 从scikit-learn 库中载入预处理模块, 数据生成模块, 数据分割模块(划分为\n",
    "# 训练集和测试集)和 支持向量机SVM的Support Vector Classifier分类模块\n",
    "from sklearn.datasets.samples_generator import make_classification \n",
    "from sklearn import preprocessing \n",
    "from sklearn.model_selection import train_test_split\n",
    "from sklearn.svm import SVC"
   ]
  },
  {
   "cell_type": "code",
   "execution_count": 67,
   "metadata": {},
   "outputs": [],
   "source": [
    "# 生成300个具有2种属性的数据\n",
    "X, y = make_classification(n_samples=300, n_features=2, \n",
    "                           n_redundant=0, n_informative=2, \n",
    "                           random_state=22, n_clusters_per_class=1, \n",
    "                           scale=100)"
   ]
  },
  {
   "cell_type": "code",
   "execution_count": 74,
   "metadata": {},
   "outputs": [
    {
     "data": {
      "image/png": "[encoded data removed]",
      "text/plain": [
       "<Figure size 432x288 with 1 Axes>"
      ]
     },
     "metadata": {
      "needs_background": "light"
     },
     "output_type": "display_data"
    }
   ],
   "source": [
    "#可视化数据\n",
    "plt.scatter(X[:, 0], X[:, 1], c=y)\n",
    "plt.show()\n",
    "# 实现数据的正则化，可以有效提高分类精度\n",
    "X = preprocessing.scale(X)\n",
    "#  使用 train_test_split() 函数，将样本分割为 train训练集和 test测试集，\n",
    "# 其中测试集数量为 30%\n",
    "X_train, X_test, y_train, y_test = train_test_split(X, y, test_size=0.2)"
   ]
  },
  {
   "cell_type": "code",
   "execution_count": 75,
   "metadata": {},
   "outputs": [
    {
     "name": "stdout",
     "output_type": "stream",
     "text": [
      "准确率为：0.95\n"
     ]
    }
   ],
   "source": [
    "\n",
    "# 定义SVC的核函数\n",
    "clf = SVC(gamma = \"auto\")\n",
    "# 使用fit()函数对模型进行训练\n",
    "clf.fit(X_train, y_train)\n",
    "# 使用 test测试集输出测试准确率\n",
    "# print(clf.score(X_test, y_test))\n",
    "print(\"准确率为：{:.2f}\".format(clf.score(X_test, y_test)))"
   ]
  },
  {
   "cell_type": "code",
   "execution_count": null,
   "metadata": {},
   "outputs": [],
   "source": []
  }
 ],
 "metadata": {
  "kernelspec": {
   "display_name": "Python 3",
   "language": "python",
   "name": "python3"
  },
  "language_info": {
   "codemirror_mode": {
    "name": "ipython",
    "version": 3
   },
   "file_extension": ".py",
   "mimetype": "text/x-python",
   "name": "python",
   "nbconvert_exporter": "python",
   "pygments_lexer": "ipython3",
   "version": "3.7.4"
  }
 },
 "nbformat": 4,
 "nbformat_minor": 2
}
